{
 "cells": [
  {
   "cell_type": "markdown",
   "id": "8e07d932",
   "metadata": {},
   "source": [
    "# Complex Networks Data Visualization"
   ]
  },
  {
   "cell_type": "code",
   "execution_count": 2,
   "id": "4d0637e7",
   "metadata": {},
   "outputs": [],
   "source": [
    "import networkx as nx\n",
    "import numpy as np\n",
    "import matplotlib.pyplot as plt"
   ]
  },
  {
   "cell_type": "markdown",
   "id": "d9d17a99",
   "metadata": {},
   "source": [
    "### Import the network\n",
    "The chosen network was taken from https://networkrepository.com/index.php (retweets network ---> epidemic spreading (e.g. disingormation spreading)"
   ]
  },
  {
   "cell_type": "code",
   "execution_count": null,
   "id": "d6a356b8",
   "metadata": {},
   "outputs": [],
   "source": [
    "# G = nx.Graph()"
   ]
  },
  {
   "cell_type": "markdown",
   "id": "c01c4cb5",
   "metadata": {},
   "source": [
    "## Explorative analysis"
   ]
  },
  {
   "cell_type": "markdown",
   "id": "7115dd0e",
   "metadata": {},
   "source": [
    "## Network Descriptors\n",
    "Let's visualize some of the most representative properties of the network.\n",
    "All the methods used in order to perform the calculations are implemented in the networkx library"
   ]
  },
  {
   "cell_type": "code",
   "execution_count": null,
   "id": "694a6882",
   "metadata": {},
   "outputs": [],
   "source": [
    "print(\"Number of nodes: {}\".format(G.number_of_nodes()))\n",
    "#G.nodes()\n",
    "\n",
    "print(\"Number of edges: {}\".format(G.number_of_edges()))\n",
    "#G.edges()\n",
    "\n",
    "degrees_values = [val for key,val in G.degree()] # degree for each node\n",
    "#degrees_values\n",
    "\n",
    "print(\"Min degree: {}\".format(np.min(degrees_values)))\n",
    "print(\"Max degree: {}\".format(np.max(degrees_values)))\n",
    "print(\"Avg degree: {}\".format(round(np.mean(degrees_values), 4)))\n",
    "G = nx.Graph(G)\n",
    "\n",
    "print(\"Clustering: {}\".format(round(nx.average_clustering(G), 4)))\n",
    "print(\"Assortativity: {}\".format(round(nx.degree_assortativity_coefficient(G), 4)))\n",
    "print(\"Avg path length: {}\".format(round(nx.average_shortest_path_length(G), 4)))\n",
    "print(\"Diameter: {}\".format(nx.diameter(G)))"
   ]
  },
  {
   "cell_type": "markdown",
   "id": "370499df",
   "metadata": {},
   "source": [
    "Some comments about the visualized descriptors"
   ]
  },
  {
   "cell_type": "markdown",
   "id": "9adf0baa",
   "metadata": {},
   "source": [
    "## Plot the net"
   ]
  },
  {
   "cell_type": "markdown",
   "id": "859dc1a3",
   "metadata": {},
   "source": [
    "## Plot the degree distribution (linear + log-log)\n",
    "PLots and histograms of the degreee distribution"
   ]
  },
  {
   "cell_type": "code",
   "execution_count": null,
   "id": "4c6d2e9f",
   "metadata": {},
   "outputs": [],
   "source": []
  },
  {
   "cell_type": "markdown",
   "id": "fda42cba",
   "metadata": {},
   "source": [
    "## Community detection"
   ]
  },
  {
   "cell_type": "markdown",
   "id": "4afa6e5c",
   "metadata": {},
   "source": [
    "## Epidemic Spreading"
   ]
  }
 ],
 "metadata": {
  "kernelspec": {
   "display_name": "Python 3 (ipykernel)",
   "language": "python",
   "name": "python3"
  },
  "language_info": {
   "codemirror_mode": {
    "name": "ipython",
    "version": 3
   },
   "file_extension": ".py",
   "mimetype": "text/x-python",
   "name": "python",
   "nbconvert_exporter": "python",
   "pygments_lexer": "ipython3",
   "version": "3.9.7"
  }
 },
 "nbformat": 4,
 "nbformat_minor": 5
}
